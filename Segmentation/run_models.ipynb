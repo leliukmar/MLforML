{
 "cells": [
  {
   "cell_type": "code",
   "execution_count": 1,
   "id": "81f399d6",
   "metadata": {},
   "outputs": [],
   "source": [
    "import tensorflow as tf\n",
    "import numpy as np\n",
    "\n",
    "from models.Unet3D import unet_3d\n",
    "import losses"
   ]
  },
  {
   "cell_type": "code",
   "execution_count": 2,
   "id": "431e1b23",
   "metadata": {},
   "outputs": [
    {
     "name": "stdout",
     "output_type": "stream",
     "text": [
      "Model: \"model\"\n",
      "__________________________________________________________________________________________________\n",
      " Layer (type)                Output Shape                 Param #   Connected to                  \n",
      "==================================================================================================\n",
      " input_1 (InputLayer)        [(None, 96, 96, 96, 3)]      0         []                            \n",
      "                                                                                                  \n",
      " conv3d (Conv3D)             (None, 96, 96, 96, 32)       2624      ['input_1[0][0]']             \n",
      "                                                                                                  \n",
      " batch_normalization (Batch  (None, 96, 96, 96, 32)       128       ['conv3d[0][0]']              \n",
      " Normalization)                                                                                   \n",
      "                                                                                                  \n",
      " leaky_re_lu (LeakyReLU)     multiple                     0         ['batch_normalization[0][0]', \n",
      "                                                                     'batch_normalization_1[0][0]'\n",
      "                                                                    , 'batch_normalization_2[0][0]\n",
      "                                                                    ',                            \n",
      "                                                                     'batch_normalization_3[0][0]'\n",
      "                                                                    , 'batch_normalization_4[0][0]\n",
      "                                                                    ',                            \n",
      "                                                                     'batch_normalization_5[0][0]'\n",
      "                                                                    , 'batch_normalization_6[0][0]\n",
      "                                                                    ',                            \n",
      "                                                                     'batch_normalization_7[0][0]'\n",
      "                                                                    , 'batch_normalization_8[0][0]\n",
      "                                                                    ',                            \n",
      "                                                                     'batch_normalization_9[0][0]'\n",
      "                                                                    , 'batch_normalization_10[0][0\n",
      "                                                                    ]',                           \n",
      "                                                                     'batch_normalization_11[0][0]\n",
      "                                                                    ',                            \n",
      "                                                                     'batch_normalization_12[0][0]\n",
      "                                                                    ',                            \n",
      "                                                                     'batch_normalization_13[0][0]\n",
      "                                                                    ',                            \n",
      "                                                                     'batch_normalization_14[0][0]\n",
      "                                                                    ',                            \n",
      "                                                                     'batch_normalization_15[0][0]\n",
      "                                                                    ',                            \n",
      "                                                                     'batch_normalization_16[0][0]\n",
      "                                                                    ',                            \n",
      "                                                                     'batch_normalization_17[0][0]\n",
      "                                                                    ']                            \n",
      "                                                                                                  \n",
      " conv3d_1 (Conv3D)           (None, 96, 96, 96, 32)       27680     ['leaky_re_lu[0][0]']         \n",
      "                                                                                                  \n",
      " batch_normalization_1 (Bat  (None, 96, 96, 96, 32)       128       ['conv3d_1[0][0]']            \n",
      " chNormalization)                                                                                 \n",
      "                                                                                                  \n",
      " conv3d_2 (Conv3D)           (None, 48, 48, 48, 64)       55360     ['leaky_re_lu[1][0]']         \n",
      "                                                                                                  \n",
      " batch_normalization_2 (Bat  (None, 48, 48, 48, 64)       256       ['conv3d_2[0][0]']            \n",
      " chNormalization)                                                                                 \n",
      "                                                                                                  \n",
      " conv3d_3 (Conv3D)           (None, 48, 48, 48, 64)       110656    ['leaky_re_lu[2][0]']         \n",
      "                                                                                                  \n",
      " batch_normalization_3 (Bat  (None, 48, 48, 48, 64)       256       ['conv3d_3[0][0]']            \n",
      " chNormalization)                                                                                 \n",
      "                                                                                                  \n",
      " conv3d_4 (Conv3D)           (None, 24, 24, 24, 128)      221312    ['leaky_re_lu[3][0]']         \n",
      "                                                                                                  \n",
      " batch_normalization_4 (Bat  (None, 24, 24, 24, 128)      512       ['conv3d_4[0][0]']            \n",
      " chNormalization)                                                                                 \n",
      "                                                                                                  \n",
      " conv3d_5 (Conv3D)           (None, 24, 24, 24, 128)      442496    ['leaky_re_lu[4][0]']         \n",
      "                                                                                                  \n",
      " batch_normalization_5 (Bat  (None, 24, 24, 24, 128)      512       ['conv3d_5[0][0]']            \n",
      " chNormalization)                                                                                 \n",
      "                                                                                                  \n",
      " conv3d_6 (Conv3D)           (None, 12, 12, 12, 256)      884992    ['leaky_re_lu[5][0]']         \n",
      "                                                                                                  \n",
      " batch_normalization_6 (Bat  (None, 12, 12, 12, 256)      1024      ['conv3d_6[0][0]']            \n",
      " chNormalization)                                                                                 \n",
      "                                                                                                  \n",
      " conv3d_7 (Conv3D)           (None, 12, 12, 12, 256)      1769728   ['leaky_re_lu[6][0]']         \n",
      "                                                                                                  \n",
      " batch_normalization_7 (Bat  (None, 12, 12, 12, 256)      1024      ['conv3d_7[0][0]']            \n",
      " chNormalization)                                                                                 \n",
      "                                                                                                  \n",
      " conv3d_8 (Conv3D)           (None, 6, 6, 6, 512)         3539456   ['leaky_re_lu[7][0]']         \n",
      "                                                                                                  \n",
      " batch_normalization_8 (Bat  (None, 6, 6, 6, 512)         2048      ['conv3d_8[0][0]']            \n",
      " chNormalization)                                                                                 \n",
      "                                                                                                  \n",
      " conv3d_9 (Conv3D)           (None, 6, 6, 6, 512)         7078400   ['leaky_re_lu[8][0]']         \n",
      "                                                                                                  \n"
     ]
    },
    {
     "name": "stdout",
     "output_type": "stream",
     "text": [
      " batch_normalization_9 (Bat  (None, 6, 6, 6, 512)         2048      ['conv3d_9[0][0]']            \n",
      " chNormalization)                                                                                 \n",
      "                                                                                                  \n",
      " conv3d_transpose (Conv3DTr  (None, 12, 12, 12, 512)      2097664   ['leaky_re_lu[9][0]']         \n",
      " anspose)                                                                                         \n",
      "                                                                                                  \n",
      " concatenate (Concatenate)   (None, 12, 12, 12, 768)      0         ['conv3d_transpose[0][0]',    \n",
      "                                                                     'leaky_re_lu[7][0]']         \n",
      "                                                                                                  \n",
      " conv3d_10 (Conv3D)          (None, 12, 12, 12, 256)      5308672   ['concatenate[0][0]']         \n",
      "                                                                                                  \n",
      " batch_normalization_10 (Ba  (None, 12, 12, 12, 256)      1024      ['conv3d_10[0][0]']           \n",
      " tchNormalization)                                                                                \n",
      "                                                                                                  \n",
      " conv3d_11 (Conv3D)          (None, 12, 12, 12, 256)      1769728   ['leaky_re_lu[10][0]']        \n",
      "                                                                                                  \n",
      " batch_normalization_11 (Ba  (None, 12, 12, 12, 256)      1024      ['conv3d_11[0][0]']           \n",
      " tchNormalization)                                                                                \n",
      "                                                                                                  \n",
      " conv3d_transpose_1 (Conv3D  (None, 24, 24, 24, 256)      524544    ['leaky_re_lu[11][0]']        \n",
      " Transpose)                                                                                       \n",
      "                                                                                                  \n",
      " concatenate_1 (Concatenate  (None, 24, 24, 24, 384)      0         ['conv3d_transpose_1[0][0]',  \n",
      " )                                                                   'leaky_re_lu[5][0]']         \n",
      "                                                                                                  \n",
      " conv3d_12 (Conv3D)          (None, 24, 24, 24, 128)      1327232   ['concatenate_1[0][0]']       \n",
      "                                                                                                  \n",
      " batch_normalization_12 (Ba  (None, 24, 24, 24, 128)      512       ['conv3d_12[0][0]']           \n",
      " tchNormalization)                                                                                \n",
      "                                                                                                  \n",
      " conv3d_13 (Conv3D)          (None, 24, 24, 24, 128)      442496    ['leaky_re_lu[12][0]']        \n",
      "                                                                                                  \n",
      " batch_normalization_13 (Ba  (None, 24, 24, 24, 128)      512       ['conv3d_13[0][0]']           \n",
      " tchNormalization)                                                                                \n",
      "                                                                                                  \n",
      " conv3d_transpose_2 (Conv3D  (None, 48, 48, 48, 128)      131200    ['leaky_re_lu[13][0]']        \n",
      " Transpose)                                                                                       \n",
      "                                                                                                  \n",
      " concatenate_2 (Concatenate  (None, 48, 48, 48, 192)      0         ['conv3d_transpose_2[0][0]',  \n",
      " )                                                                   'leaky_re_lu[3][0]']         \n",
      "                                                                                                  \n",
      " conv3d_14 (Conv3D)          (None, 48, 48, 48, 64)       331840    ['concatenate_2[0][0]']       \n",
      "                                                                                                  \n",
      " batch_normalization_14 (Ba  (None, 48, 48, 48, 64)       256       ['conv3d_14[0][0]']           \n",
      " tchNormalization)                                                                                \n",
      "                                                                                                  \n",
      " conv3d_15 (Conv3D)          (None, 48, 48, 48, 64)       110656    ['leaky_re_lu[14][0]']        \n",
      "                                                                                                  \n",
      " batch_normalization_15 (Ba  (None, 48, 48, 48, 64)       256       ['conv3d_15[0][0]']           \n",
      " tchNormalization)                                                                                \n",
      "                                                                                                  \n",
      " conv3d_transpose_3 (Conv3D  (None, 96, 96, 96, 64)       32832     ['leaky_re_lu[15][0]']        \n",
      " Transpose)                                                                                       \n",
      "                                                                                                  \n",
      " concatenate_3 (Concatenate  (None, 96, 96, 96, 96)       0         ['conv3d_transpose_3[0][0]',  \n",
      " )                                                                   'leaky_re_lu[1][0]']         \n",
      "                                                                                                  \n",
      " conv3d_16 (Conv3D)          (None, 96, 96, 96, 32)       82976     ['concatenate_3[0][0]']       \n",
      "                                                                                                  \n",
      " batch_normalization_16 (Ba  (None, 96, 96, 96, 32)       128       ['conv3d_16[0][0]']           \n",
      " tchNormalization)                                                                                \n",
      "                                                                                                  \n",
      " conv3d_17 (Conv3D)          (None, 96, 96, 96, 32)       27680     ['leaky_re_lu[16][0]']        \n",
      "                                                                                                  \n",
      " batch_normalization_17 (Ba  (None, 96, 96, 96, 32)       128       ['conv3d_17[0][0]']           \n",
      " tchNormalization)                                                                                \n",
      "                                                                                                  \n",
      " conv3d_18 (Conv3D)          (None, 96, 96, 96, 8)        6920      ['leaky_re_lu[17][0]']        \n",
      "                                                                                                  \n",
      " batch_normalization_18 (Ba  (None, 96, 96, 96, 8)        32        ['conv3d_18[0][0]']           \n",
      " tchNormalization)                                                                                \n",
      "                                                                                                  \n",
      " softmax (Softmax)           (None, 96, 96, 96, 8)        0         ['batch_normalization_18[0][0]\n",
      "                                                                    ']                            \n",
      "                                                                                                  \n",
      "==================================================================================================\n",
      "Total params: 26338952 (100.48 MB)\n",
      "Trainable params: 26333048 (100.45 MB)\n",
      "Non-trainable params: 5904 (23.06 KB)\n",
      "__________________________________________________________________________________________________\n"
     ]
    }
   ],
   "source": [
    "CLASSES = 8\n",
    "CHANNELS = 3\n",
    "SIZE = 96\n",
    "\n",
    "model = unet_3d(class_num = CLASSES, size = SIZE)\n",
    "model.summary()"
   ]
  },
  {
   "cell_type": "markdown",
   "id": "e839033c",
   "metadata": {},
   "source": [
    "Create some dataset for testing"
   ]
  },
  {
   "cell_type": "code",
   "execution_count": 3,
   "id": "7e641be8",
   "metadata": {},
   "outputs": [],
   "source": [
    "TRAIN_LENGTH = 10\n",
    "TEST_LENGTH = 4\n",
    "BATCH_SIZE = 2\n",
    "\n",
    "MATRIX = np.random.choice(np.arange(10, dtype=np.float16), size=(CHANNELS, CLASSES), replace=True)\n",
    "\n",
    "def normalize(data):\n",
    "    return (data / 127.5) - 1.0\n",
    "\n",
    "def get_dataset(data_size):\n",
    "    features = []\n",
    "    labels = []\n",
    "    for i in range(data_size):\n",
    "        data = np.random.choice(np.arange(256, dtype=np.float16), size=(SIZE, SIZE, SIZE, CHANNELS), replace=True)\n",
    "        features.append(normalize(data))\n",
    "    labels = np.dot(features, MATRIX)\n",
    "    return tf.data.Dataset.from_tensor_slices((tf.convert_to_tensor(features, dtype=tf.float16), tf.convert_to_tensor(labels, dtype=tf.float16)))\n",
    "\n",
    "train_dataset = get_dataset(TRAIN_LENGTH)\n",
    "test_dataset = get_dataset(TEST_LENGTH)\n",
    "\n",
    "train_batches = train_dataset.batch(BATCH_SIZE)\n",
    "test_batches = test_dataset.batch(BATCH_SIZE)"
   ]
  },
  {
   "cell_type": "code",
   "execution_count": null,
   "id": "c829e571",
   "metadata": {},
   "outputs": [],
   "source": []
  },
  {
   "cell_type": "code",
   "execution_count": null,
   "id": "889c10fd",
   "metadata": {},
   "outputs": [
    {
     "name": "stdout",
     "output_type": "stream",
     "text": [
      "Epoch 1/3\n"
     ]
    },
    {
     "name": "stderr",
     "output_type": "stream",
     "text": [
      "2025-01-12 15:57:59.037372: W tensorflow/core/platform/profile_utils/cpu_utils.cc:128] Failed to get CPU frequency: 0 Hz\n"
     ]
    },
    {
     "name": "stdout",
     "output_type": "stream",
     "text": [
      "5/5 [==============================] - 965s 194s/step - loss: 0.8957 - accuracy: 0.1324 - val_loss: 0.9936 - val_accuracy: 0.1068\n",
      "Epoch 2/3\n",
      "2/5 [===========>..................] - ETA: 5:00 - loss: 0.8484 - accuracy: 0.1356 "
     ]
    }
   ],
   "source": [
    "model = unet_3d(class_num = CLASSES, size = SIZE)\n",
    "model.compile(optimizer=tf.keras.optimizers.Adam(learning_rate=1e-5),\n",
    "              loss=losses.dice_loss,\n",
    "              metrics=['accuracy'])\n",
    "\n",
    "model_history = model.fit(train_batches,\n",
    "                          epochs=3,\n",
    "                          steps_per_epoch=TRAIN_LENGTH // BATCH_SIZE,\n",
    "                          validation_steps=TEST_LENGTH // BATCH_SIZE,\n",
    "                          validation_data=test_batches)"
   ]
  },
  {
   "cell_type": "code",
   "execution_count": null,
   "id": "66b86ff7",
   "metadata": {},
   "outputs": [],
   "source": [
    "loss = model_history.history['loss']\n",
    "val_loss = model_history.history['val_loss']\n",
    "\n",
    "print(loss)\n",
    "print(val_loss)"
   ]
  },
  {
   "cell_type": "code",
   "execution_count": null,
   "id": "659bf89f",
   "metadata": {},
   "outputs": [],
   "source": [
    "import matplotlib.pyplot as plt\n",
    "\n",
    "loss = model_history.history['loss']\n",
    "val_loss = model_history.history['val_loss']\n",
    "\n",
    "plt.figure()\n",
    "plt.plot(model_history.epoch, loss, 'r', label='Training loss')\n",
    "plt.plot(model_history.epoch, val_loss, 'bo', label='Validation loss')\n",
    "plt.title('Training and Validation Loss')\n",
    "plt.xlabel('Epoch')\n",
    "plt.ylabel('Loss Value')\n",
    "plt.ylim([0, 2])\n",
    "plt.legend()\n",
    "plt.show()"
   ]
  },
  {
   "cell_type": "code",
   "execution_count": 5,
   "id": "b92171e6",
   "metadata": {},
   "outputs": [
    {
     "name": "stdout",
     "output_type": "stream",
     "text": [
      "2.13.0\n"
     ]
    }
   ],
   "source": [
    "print(tf.__version__)"
   ]
  },
  {
   "cell_type": "code",
   "execution_count": 4,
   "id": "ce6f1530",
   "metadata": {},
   "outputs": [
    {
     "name": "stdout",
     "output_type": "stream",
     "text": [
      "1/1 [==============================] - 3s 3s/step\n",
      "dice loss: 0.9977645874023438\n"
     ]
    },
    {
     "ename": "AttributeError",
     "evalue": "module 'keras.api._v2.keras.losses' has no attribute 'Dice'",
     "output_type": "error",
     "traceback": [
      "\u001b[0;31m---------------------------------------------------------------------------\u001b[0m",
      "\u001b[0;31mAttributeError\u001b[0m                            Traceback (most recent call last)",
      "Input \u001b[0;32mIn [4]\u001b[0m, in \u001b[0;36m<module>\u001b[0;34m\u001b[0m\n\u001b[1;32m      6\u001b[0m prediction \u001b[38;5;241m=\u001b[39m model\u001b[38;5;241m.\u001b[39mpredict(img)\n\u001b[1;32m      8\u001b[0m \u001b[38;5;28mprint\u001b[39m(\u001b[38;5;124mf\u001b[39m\u001b[38;5;124m'\u001b[39m\u001b[38;5;124mdice loss: \u001b[39m\u001b[38;5;132;01m{\u001b[39;00mlosses\u001b[38;5;241m.\u001b[39mdice_loss(label, prediction, \u001b[38;5;241m0\u001b[39m)\u001b[38;5;132;01m}\u001b[39;00m\u001b[38;5;124m'\u001b[39m)\n\u001b[0;32m----> 9\u001b[0m \u001b[38;5;28mprint\u001b[39m(\u001b[38;5;124mf\u001b[39m\u001b[38;5;124m'\u001b[39m\u001b[38;5;124mtf dice loss: \u001b[39m\u001b[38;5;132;01m{\u001b[39;00mtf\u001b[38;5;241m.\u001b[39mkeras\u001b[38;5;241m.\u001b[39mlosses\u001b[38;5;241m.\u001b[39mDice()(label, prediction)\u001b[38;5;132;01m}\u001b[39;00m\u001b[38;5;124m'\u001b[39m)\n\u001b[1;32m     11\u001b[0m \u001b[38;5;28mprint\u001b[39m(\u001b[38;5;124mf\u001b[39m\u001b[38;5;124m'\u001b[39m\u001b[38;5;124mcross entropy: \u001b[39m\u001b[38;5;132;01m{\u001b[39;00mlosses\u001b[38;5;241m.\u001b[39mcross_entropy_tf(label, prediction)\u001b[38;5;132;01m}\u001b[39;00m\u001b[38;5;124m'\u001b[39m)\n\u001b[1;32m     12\u001b[0m \u001b[38;5;28mprint\u001b[39m(\u001b[38;5;124mf\u001b[39m\u001b[38;5;124m'\u001b[39m\u001b[38;5;124mtf cross entropy: \u001b[39m\u001b[38;5;132;01m{\u001b[39;00mtf\u001b[38;5;241m.\u001b[39mkeras\u001b[38;5;241m.\u001b[39mlosses\u001b[38;5;241m.\u001b[39mCategoricalCrossentropy(from_logits\u001b[38;5;241m=\u001b[39m\u001b[38;5;28;01mFalse\u001b[39;00m)(label, prediction)\u001b[38;5;132;01m}\u001b[39;00m\u001b[38;5;124m'\u001b[39m)\n",
      "\u001b[0;31mAttributeError\u001b[0m: module 'keras.api._v2.keras.losses' has no attribute 'Dice'"
     ]
    }
   ],
   "source": [
    "# check losses are equal to tf implementation\n",
    "for j, d in enumerate(test_dataset):\n",
    "    img = tf.expand_dims(d[0], axis=0)\n",
    "    label = tf.expand_dims(d[1], axis=0)\n",
    "\n",
    "    prediction = model.predict(img)\n",
    "\n",
    "    print(f'dice loss: {losses.dice_loss(label, prediction, 0)}')\n",
    "    print(f'tf dice loss: {tf.keras.losses.Dice()(label, prediction)}')\n",
    "\n",
    "    print(f'cross entropy: {losses.cross_entropy_tf(label, prediction)}')\n",
    "    print(f'tf cross entropy: {tf.keras.losses.CategoricalCrossentropy(from_logits=False)(label, prediction)}')\n",
    "    break"
   ]
  },
  {
   "cell_type": "code",
   "execution_count": null,
   "id": "6a0c6e84",
   "metadata": {},
   "outputs": [],
   "source": []
  }
 ],
 "metadata": {
  "kernelspec": {
   "display_name": "Python 3 (ipykernel)",
   "language": "python",
   "name": "python3"
  },
  "language_info": {
   "codemirror_mode": {
    "name": "ipython",
    "version": 3
   },
   "file_extension": ".py",
   "mimetype": "text/x-python",
   "name": "python",
   "nbconvert_exporter": "python",
   "pygments_lexer": "ipython3",
   "version": "3.8.9"
  }
 },
 "nbformat": 4,
 "nbformat_minor": 5
}
